{
 "cells": [
  {
   "cell_type": "code",
   "execution_count": 1,
   "metadata": {},
   "outputs": [
    {
     "data": {
      "text/plain": [
       "{'symbol': 'AZUL4',\n",
       " 'data': {'AZUL4': {'bid': [{'price': 7.61, 'volume': 76300.0},\n",
       "    {'price': 7.6, 'volume': 119100.0},\n",
       "    {'price': 7.59, 'volume': 98300.0},\n",
       "    {'price': 7.58, 'volume': 69200.0},\n",
       "    {'price': 7.57, 'volume': 26100.0}],\n",
       "   'ask': [{'price': 7.56, 'volume': 14000.0},\n",
       "    {'price': 7.55, 'volume': 37700.0},\n",
       "    {'price': 7.54, 'volume': 129000.0},\n",
       "    {'price': 7.53, 'volume': 109500.0},\n",
       "    {'price': 7.52, 'volume': 87800.0}]}}}"
      ]
     },
     "execution_count": 1,
     "metadata": {},
     "output_type": "execute_result"
    }
   ],
   "source": [
    "# Importa a biblioteca `requests` usada para fazer requisições HTTP\n",
    "import requests\n",
    "\n",
    "# Define o símbolo da ação que queremos consultar (neste caso, \"azul4\")\n",
    "symbol = 'azul4'\n",
    "\n",
    "# Substitua 'your token here' pelo seu token real da API do Ibovfinancials\n",
    "token = 'ypur token here'\n",
    "\n",
    "# Define a URL base da API do Ibovespa Financials\n",
    "url = 'https://ibovfinancials.com'\n",
    "\n",
    "# Define o endpoint específico para consulta de book de ofertas\n",
    "endpoint = '/api/ibov/book'\n",
    "\n",
    "# Cria um dicionário de parâmetros para a requisição\n",
    "params = {\n",
    "  'symbol': symbol,  # Símbolo da ação a ser consultada\n",
    "  'token': token,    # Token de acesso à API\n",
    "}\n",
    "\n",
    "# Realiza a requisição GET para o endpoint da API\n",
    "response = requests.get(url + endpoint, params=params)\n",
    "\n",
    "# Converte a resposta da API para um objeto JSON\n",
    "data = response.json()\n",
    "\n",
    "data"
   ]
  }
 ],
 "metadata": {
  "kernelspec": {
   "display_name": "base",
   "language": "python",
   "name": "python3"
  },
  "language_info": {
   "codemirror_mode": {
    "name": "ipython",
    "version": 3
   },
   "file_extension": ".py",
   "mimetype": "text/x-python",
   "name": "python",
   "nbconvert_exporter": "python",
   "pygments_lexer": "ipython3",
   "version": "3.11.7"
  }
 },
 "nbformat": 4,
 "nbformat_minor": 2
}
