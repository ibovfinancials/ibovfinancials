{
 "cells": [
  {
   "cell_type": "code",
   "execution_count": 1,
   "metadata": {},
   "outputs": [
    {
     "data": {
      "text/plain": [
       "{'symbol': 'AZUL4',\n",
       " 'data': {'AZUL4': {'volume': 600,\n",
       "   'bid': 7.49,\n",
       "   'bidhigh': 7.63,\n",
       "   'bidlow': 7.47,\n",
       "   'ask': 7.6,\n",
       "   'askhigh': 7.64,\n",
       "   'asklow': 7.48,\n",
       "   'last': 7.57,\n",
       "   'lasthigh': 7.65,\n",
       "   'lastlow': 7.48,\n",
       "   'session_open': 7.59,\n",
       "   'session_close': 7.59,\n",
       "   'session_aw': 7.53,\n",
       "   'price_change': -0.2635}}}"
      ]
     },
     "execution_count": 1,
     "metadata": {},
     "output_type": "execute_result"
    }
   ],
   "source": [
    "# Importa a biblioteca `requests` usada para fazer requisições HTTP\n",
    "import requests\n",
    "\n",
    "# Define o símbolo da ação que queremos consultar (neste caso, \"azul4\")\n",
    "symbol = 'azul4'\n",
    "\n",
    "# Substitua 'your token here' pelo seu token real da API do Ibovfinancials\n",
    "token = 'your token here'\n",
    "\n",
    "# Define a URL base da API do Ibovespa Financials\n",
    "url = 'https://ibovfinancials.com'\n",
    "\n",
    "# Define o endpoint específico para consulta de cotações\n",
    "endpoint = '/api/ibov/quotes'\n",
    "\n",
    "# Cria um dicionário de parâmetros para a requisição\n",
    "params = {\n",
    "  'symbol': symbol,  # Símbolo da ação a ser consultada\n",
    "  'token': token,    # Token de acesso à API\n",
    "}\n",
    "\n",
    "# Realiza a requisição GET para o endpoint da API\n",
    "response = requests.get(url + endpoint, params=params)\n",
    "\n",
    "# Converte a resposta da API para um objeto JSON\n",
    "data = response.json()\n",
    "\n",
    "data"
   ]
  }
 ],
 "metadata": {
  "kernelspec": {
   "display_name": "base",
   "language": "python",
   "name": "python3"
  },
  "language_info": {
   "codemirror_mode": {
    "name": "ipython",
    "version": 3
   },
   "file_extension": ".py",
   "mimetype": "text/x-python",
   "name": "python",
   "nbconvert_exporter": "python",
   "pygments_lexer": "ipython3",
   "version": "3.11.7"
  }
 },
 "nbformat": 4,
 "nbformat_minor": 2
}
